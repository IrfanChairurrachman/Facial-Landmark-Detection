{
 "cells": [
  {
   "cell_type": "code",
   "execution_count": null,
   "source": [
    "import tensorflow as tf\r\n",
    "import tensorflow_hub as hub\r\n",
    "import numpy as np\r\n",
    "import os\r\n",
    "import pandas as pd\r\n",
    "import matplotlib.pyplot as plt \r\n",
    "import base64\r\n",
    "from PIL import Image\r\n",
    "import io\r\n",
    "import math \r\n",
    "from math import sqrt\r\n",
    "\r\n",
    "\r\n",
    "%matplotlib inline\r\n",
    "\r\n",
    "global embed\r\n",
    "embed = hub.KerasLayer(os.getcwd())"
   ],
   "outputs": [],
   "metadata": {}
  },
  {
   "cell_type": "code",
   "execution_count": null,
   "source": [
    "for x in os.listdir(\".\"):\r\n",
    "    print(x)"
   ],
   "outputs": [],
   "metadata": {}
  },
  {
   "cell_type": "code",
   "execution_count": null,
   "source": [
    "class TensorVector(object):\r\n",
    "\r\n",
    "    def __init__(self, FileName=None):\r\n",
    "        self.FileName = FileName\r\n",
    "\r\n",
    "    def process(self):\r\n",
    "\r\n",
    "        img = tf.io.read_file(self.FileName)\r\n",
    "        img = tf.io.decode_jpeg(img, channels=3)\r\n",
    "        img = tf.image.resize_with_pad(img, 224, 224)\r\n",
    "        img = tf.image.convert_image_dtype(img,tf.float32)[tf.newaxis, ...]\r\n",
    "        features = embed(img)\r\n",
    "        feature_set = np.squeeze(features)\r\n",
    "        return list(feature_set)"
   ],
   "outputs": [],
   "metadata": {}
  },
  {
   "cell_type": "code",
   "execution_count": null,
   "source": [
    "def convertBase64(FileName):\r\n",
    "    \"\"\"\r\n",
    "    Return the Numpy array for a image \r\n",
    "    \"\"\"\r\n",
    "    with open(FileName, \"rb\") as f:\r\n",
    "        data = f.read()\r\n",
    "        \r\n",
    "    res = base64.b64encode(data)\r\n",
    "    \r\n",
    "    base64data = res.decode(\"UTF-8\")\r\n",
    "    \r\n",
    "    imgdata = base64.b64decode(base64data)\r\n",
    "    \r\n",
    "    image = Image.open(io.BytesIO(imgdata))\r\n",
    "    \r\n",
    "    return np.array(image)"
   ],
   "outputs": [],
   "metadata": {}
  },
  {
   "cell_type": "code",
   "execution_count": null,
   "source": [
    "plt.imshow(convertBase64(\"1000010653_3390.jpg\"))"
   ],
   "outputs": [],
   "metadata": {}
  },
  {
   "cell_type": "code",
   "execution_count": null,
   "source": [
    "helper = TensorVector(\"1000010653_3390.jpg\")\r\n",
    "vector = helper.process()"
   ],
   "outputs": [],
   "metadata": {}
  },
  {
   "cell_type": "code",
   "execution_count": null,
   "source": [
    "len(vector)"
   ],
   "outputs": [],
   "metadata": {}
  },
  {
   "cell_type": "code",
   "execution_count": null,
   "source": [
    "helper = TensorVector(\"1000010653_3415.jpg\")\r\n",
    "vector2 = helper.process()"
   ],
   "outputs": [],
   "metadata": {}
  },
  {
   "cell_type": "code",
   "execution_count": null,
   "source": [
    "len(vector2)"
   ],
   "outputs": [],
   "metadata": {}
  },
  {
   "cell_type": "code",
   "execution_count": null,
   "source": [
    "import math\r\n",
    "from math import sqrt\r\n",
    "\r\n",
    "def cosineSim(a1,a2):\r\n",
    "    sum = 0\r\n",
    "    suma1 = 0\r\n",
    "    sumb1 = 0\r\n",
    "    for i,j in zip(a1, a2):\r\n",
    "        suma1 += i * i\r\n",
    "        sumb1 += j*j\r\n",
    "        sum += i*j\r\n",
    "    cosine_sim = sum / ((sqrt(suma1))*(sqrt(sumb1)))\r\n",
    "    return cosine_sim\r\n",
    "\r\n",
    "def jaccard_similarity(list1, list2):\r\n",
    "    intersection = len(list(set(list1).intersection(list2)))\r\n",
    "    union = (len(list1) + len(list2)) - intersection\r\n",
    "    return float(intersection) / union\r\n",
    "\r\n",
    "def average(x):\r\n",
    "    assert len(x) > 0\r\n",
    "    return float(sum(x)) / len(x)\r\n",
    "\r\n",
    "def pearson_def(x, y):\r\n",
    "    assert len(x) == len(y)\r\n",
    "    n = len(x)\r\n",
    "    assert n > 0\r\n",
    "    avg_x = average(x)\r\n",
    "    avg_y = average(y)\r\n",
    "    diffprod = 0\r\n",
    "    xdiff2 = 0\r\n",
    "    ydiff2 = 0\r\n",
    "    for idx in range(n):\r\n",
    "        xdiff = x[idx] - avg_x\r\n",
    "        ydiff = y[idx] - avg_y\r\n",
    "        diffprod += xdiff * ydiff\r\n",
    "        xdiff2 += xdiff * xdiff\r\n",
    "        ydiff2 += ydiff * ydiff\r\n",
    "\r\n",
    "    return diffprod / math.sqrt(xdiff2 * ydiff2)"
   ],
   "outputs": [],
   "metadata": {}
  },
  {
   "cell_type": "code",
   "execution_count": null,
   "source": [
    "print(\"similarity Cosine : {} \".format(cosineSim(vector, vector2)))"
   ],
   "outputs": [],
   "metadata": {}
  },
  {
   "cell_type": "code",
   "execution_count": null,
   "source": [
    "print(\"similarity jacard : {} \".format(jaccard_similarity(vector, vector2)))"
   ],
   "outputs": [],
   "metadata": {}
  },
  {
   "cell_type": "code",
   "execution_count": null,
   "source": [
    "print(\"similarity Pearson  : {} \".format(pearson_def(vector, vector2)))"
   ],
   "outputs": [],
   "metadata": {}
  },
  {
   "cell_type": "code",
   "execution_count": null,
   "source": [
    "from scipy.spatial import distance\r\n",
    "a = tuple(vector)\r\n",
    "b = tuple(vector2)\r\n",
    "dst = distance.euclidean(a, b)\r\n",
    "print(\"Euclidean distance : {} \".format(dst))"
   ],
   "outputs": [],
   "metadata": {}
  },
  {
   "cell_type": "code",
   "execution_count": null,
   "source": [
    "similarity = (jaccard_similarity(vector, vector2) + cosineSim(vector, vector2) + pearson_def(vector, vector2)) / 3\r\n",
    "similarity"
   ],
   "outputs": [],
   "metadata": {}
  }
 ],
 "metadata": {
  "orig_nbformat": 4,
  "language_info": {
   "name": "python"
  }
 },
 "nbformat": 4,
 "nbformat_minor": 2
}