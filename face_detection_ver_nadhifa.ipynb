{
 "cells": [
  {
   "cell_type": "code",
   "execution_count": 1,
   "source": [
    "# Face landmarks Detection\r\n",
    "# usage:\r\n",
    "# python facelandmarkdetect.py --shape-predictor shape_predictor_68_face_landmarks.dat --image images/face1.jpg\r\n",
    "\r\n",
    "# import the necessary packages\r\n",
    "from imutils import face_utils\r\n",
    "import numpy as np\r\n",
    "import argparse\r\n",
    "import os\r\n",
    "import imutils\r\n",
    "import dlib\r\n",
    "import cv2\r\n",
    "import matplotlib.pyplot as plt"
   ],
   "outputs": [],
   "metadata": {}
  },
  {
   "cell_type": "code",
   "execution_count": 2,
   "source": [
    "# import urllib.request\r\n",
    "# ...\r\n",
    "# # Download the file from `url` and save it locally under `file_name`:\r\n",
    "# url = 'http://dlib.net/files/shape_predictor_68_face_landmarks.dat.bz2'\r\n",
    "# file_name = 'face_detector.dat.bz2'\r\n",
    "# urllib.request.urlretrieve(url, file_name)"
   ],
   "outputs": [],
   "metadata": {}
  },
  {
   "cell_type": "code",
   "execution_count": 3,
   "source": [
    "# initialize dlib's face detector (HOG-based) and then create\r\n",
    "# the facial landmark predictor\r\n",
    "face_detector_path = r'D:\\Facial-Landmark-Detection\\face_detector.dat'\r\n",
    "detector = dlib.get_frontal_face_detector()\r\n",
    "predictor = dlib.shape_predictor(face_detector_path)"
   ],
   "outputs": [],
   "metadata": {}
  },
  {
   "cell_type": "code",
   "execution_count": 4,
   "source": [
    "# load the input image, resize it, and convert it to grayscale\r\n",
    "image_path = r'D:\\Facial-Landmark-Detection\\Data\\Training\\14\\14_3.jpg'\r\n",
    "image = cv2.imread(image_path)\r\n",
    "#image = imutils.resize(image, width=500)\r\n",
    "gray = cv2.cvtColor(image, cv2.COLOR_BGR2GRAY)\r\n",
    "cv2.imshow('image', gray)\r\n",
    "cv2.waitKey(0) \r\n",
    "cv2.destroyAllWindows() "
   ],
   "outputs": [],
   "metadata": {}
  },
  {
   "cell_type": "code",
   "execution_count": 5,
   "source": [
    "# detect faces in the grayscale image\r\n",
    "rects = detector(gray, 1)\r\n",
    "\r\n",
    "cropped = []\r\n",
    "# loop over the face detections\r\n",
    "for (i, rect) in enumerate(rects):\r\n",
    "\t# determine the facial landmarks for the face region, then\r\n",
    "\t# convert the facial landmark (x, y)-coordinates to a NumPy\r\n",
    "\t# array\r\n",
    "\tshape = predictor(gray, rect)\r\n",
    "\tshape = face_utils.shape_to_np(shape)\r\n",
    "\r\n",
    "\t# convert dlib's rectangle to a OpenCV-style bounding box\r\n",
    "\t# [i.e., (x, y, w, h)], then draw the face bounding box\r\n",
    "\t(x, y, w, h) = face_utils.rect_to_bb(rect)\r\n",
    "\r\n",
    "\tRGB_img = cv2.cvtColor(image, cv2.COLOR_BGR2RGB)\r\n",
    "\t\r\n",
    "\t# Crop facial landmark\r\n",
    "\tcropped.append(RGB_img[y:y+h, x:x+h])\r\n",
    "\r\n",
    "\tcv2.rectangle(RGB_img, (x, y), (x + w, y + h), (0, 255, 0), 2)\r\n",
    "\tprint(\"Start:\", end='')\r\n",
    "\tprint(x, end=',')\r\n",
    "\tprint(y)\r\n",
    "\tprint(\"End:\", end='')\r\n",
    "\tprint(x + w, end=',')\r\n",
    "\tprint(y + h)\r\n",
    "\r\n",
    "\t#show the face number\r\n",
    "\tcv2.putText(RGB_img, \"Face #{}\".format(i + 1), (x - 10, y - 10),\r\n",
    "\t\tcv2.FONT_HERSHEY_SIMPLEX, 0.5, (0, 255, 0), 2)\r\n",
    "\r\n",
    "\r\n",
    "\r\n",
    "\t# #loop over the (x, y)-coordinates for the facial landmarks\r\n",
    "\t# #and draw them on the image\r\n",
    "\t# for (x, y) in shape:\r\n",
    "\t# \tcv2.circle(image, (x, y), 1, (0, 0, 255), -1)\r\n"
   ],
   "outputs": [
    {
     "output_type": "stream",
     "name": "stdout",
     "text": [
      "Start:583,655\n",
      "End:712,784\n",
      "Start:-44,241\n",
      "End:312,562\n",
      "Start:855,669\n",
      "End:984,798\n",
      "Start:740,206\n",
      "End:1061,527\n"
     ]
    }
   ],
   "metadata": {}
  },
  {
   "cell_type": "code",
   "execution_count": 6,
   "source": [
    "# show the output image with the face detections + facial landmarks\r\n",
    "\r\n",
    "# Saving the image\r\n",
    "plt.subplot(1,len(cropped)+1,1)\r\n",
    "plt.imshow(RGB_img)\r\n",
    "plt.xticks([])\r\n",
    "plt.yticks([])\r\n",
    "plt.title(\"Detection\")\r\n",
    "\r\n",
    "z = 0\r\n",
    "for i in cropped:\r\n",
    "\tsaved_file_name = os.path.join(r'D:\\Facial-Landmark-Detection\\similarity_test', str(z)+'.jpg')\r\n",
    "\t#i = cv2.cvtColor(i, cv2.COLOR_BGR2RGB)\r\n",
    "\tprint('Original Dimensions : ',i.shape)\r\n",
    "\tresized = cv2.resize(i, (150, 150))\r\n",
    "\tprint('Resized Dimensions : ',resized.shape)\r\n",
    "\tplt.imsave(saved_file_name, resized)\r\n",
    "\tz = z + 1\r\n",
    "\r\n",
    "\tplt.subplot(1,len(cropped)+1,z+1)\r\n",
    "\tplt.imshow(resized)\r\n",
    "\tplt.xticks([])\r\n",
    "\tplt.yticks([])\r\n",
    "\tplt.title(\"Cropped\")\r\n",
    "\r\n",
    "plt.show()"
   ],
   "outputs": [
    {
     "output_type": "stream",
     "name": "stdout",
     "text": [
      "Original Dimensions :  (129, 129, 3)\n",
      "Resized Dimensions :  (150, 150, 3)\n",
      "Original Dimensions :  (321, 0, 3)\n"
     ]
    },
    {
     "output_type": "error",
     "ename": "error",
     "evalue": "OpenCV(4.5.2) C:\\Users\\runneradmin\\AppData\\Local\\Temp\\pip-req-build-vi271kac\\opencv\\modules\\imgproc\\src\\resize.cpp:4051: error: (-215:Assertion failed) !ssize.empty() in function 'cv::resize'\n",
     "traceback": [
      "\u001b[1;31m---------------------------------------------------------------------------\u001b[0m",
      "\u001b[1;31merror\u001b[0m                                     Traceback (most recent call last)",
      "\u001b[1;32m<ipython-input-6-8641024c667b>\u001b[0m in \u001b[0;36m<module>\u001b[1;34m\u001b[0m\n\u001b[0;32m     13\u001b[0m         \u001b[1;31m#i = cv2.cvtColor(i, cv2.COLOR_BGR2RGB)\u001b[0m\u001b[1;33m\u001b[0m\u001b[1;33m\u001b[0m\u001b[1;33m\u001b[0m\u001b[0m\n\u001b[0;32m     14\u001b[0m         \u001b[0mprint\u001b[0m\u001b[1;33m(\u001b[0m\u001b[1;34m'Original Dimensions : '\u001b[0m\u001b[1;33m,\u001b[0m\u001b[0mi\u001b[0m\u001b[1;33m.\u001b[0m\u001b[0mshape\u001b[0m\u001b[1;33m)\u001b[0m\u001b[1;33m\u001b[0m\u001b[1;33m\u001b[0m\u001b[0m\n\u001b[1;32m---> 15\u001b[1;33m         \u001b[0mresized\u001b[0m \u001b[1;33m=\u001b[0m \u001b[0mcv2\u001b[0m\u001b[1;33m.\u001b[0m\u001b[0mresize\u001b[0m\u001b[1;33m(\u001b[0m\u001b[0mi\u001b[0m\u001b[1;33m,\u001b[0m \u001b[1;33m(\u001b[0m\u001b[1;36m150\u001b[0m\u001b[1;33m,\u001b[0m \u001b[1;36m150\u001b[0m\u001b[1;33m)\u001b[0m\u001b[1;33m)\u001b[0m\u001b[1;33m\u001b[0m\u001b[1;33m\u001b[0m\u001b[0m\n\u001b[0m\u001b[0;32m     16\u001b[0m         \u001b[0mprint\u001b[0m\u001b[1;33m(\u001b[0m\u001b[1;34m'Resized Dimensions : '\u001b[0m\u001b[1;33m,\u001b[0m\u001b[0mresized\u001b[0m\u001b[1;33m.\u001b[0m\u001b[0mshape\u001b[0m\u001b[1;33m)\u001b[0m\u001b[1;33m\u001b[0m\u001b[1;33m\u001b[0m\u001b[0m\n\u001b[0;32m     17\u001b[0m         \u001b[0mplt\u001b[0m\u001b[1;33m.\u001b[0m\u001b[0mimsave\u001b[0m\u001b[1;33m(\u001b[0m\u001b[0msaved_file_name\u001b[0m\u001b[1;33m,\u001b[0m \u001b[0mresized\u001b[0m\u001b[1;33m)\u001b[0m\u001b[1;33m\u001b[0m\u001b[1;33m\u001b[0m\u001b[0m\n",
      "\u001b[1;31merror\u001b[0m: OpenCV(4.5.2) C:\\Users\\runneradmin\\AppData\\Local\\Temp\\pip-req-build-vi271kac\\opencv\\modules\\imgproc\\src\\resize.cpp:4051: error: (-215:Assertion failed) !ssize.empty() in function 'cv::resize'\n"
     ]
    },
    {
     "output_type": "display_data",
     "data": {
      "image/png": "[encoded data removed]",
      "text/plain": [
       "<Figure size 432x288 with 2 Axes>"
      ]
     },
     "metadata": {}
    }
   ],
   "metadata": {}
  }
 ],
 "metadata": {
  "orig_nbformat": 4,
  "language_info": {
   "name": "python",
   "version": "3.8.5",
   "mimetype": "text/x-python",
   "codemirror_mode": {
    "name": "ipython",
    "version": 3
   },
   "pygments_lexer": "ipython3",
   "nbconvert_exporter": "python",
   "file_extension": ".py"
  },
  "kernelspec": {
   "name": "python3",
   "display_name": "Python 3.8.5 64-bit ('aqilla': conda)"
  },
  "interpreter": {
   "hash": "e223f8349a9688a80bbeacb846682d1c078d5b5279230289d07a33cbcfe3542e"
  }
 },
 "nbformat": 4,
 "nbformat_minor": 2
}