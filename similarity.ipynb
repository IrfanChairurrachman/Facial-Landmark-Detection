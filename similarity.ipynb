{
 "cells": [
  {
   "cell_type": "code",
   "execution_count": 1,
   "source": [
    "\"\"\"\r\n",
    "Comparing images using ORB/SIFT feature detectors\r\n",
    "and structural similarity index. \r\n",
    "@author: Sreenivas Bhattiprolu\r\n",
    "\"\"\""
   ],
   "outputs": [
    {
     "output_type": "execute_result",
     "data": {
      "text/plain": [
       "'\\nComparing images using ORB/SIFT feature detectors\\nand structural similarity index. \\n@author: Sreenivas Bhattiprolu\\n'"
      ]
     },
     "metadata": {},
     "execution_count": 1
    }
   ],
   "metadata": {}
  },
  {
   "cell_type": "code",
   "execution_count": 2,
   "source": [
    "from skimage.metrics import structural_similarity\r\n",
    "import cv2\r\n",
    "import os"
   ],
   "outputs": [],
   "metadata": {}
  },
  {
   "cell_type": "code",
   "execution_count": 3,
   "source": [
    "#Works well with images of different dimensions\r\n",
    "def orb_sim(img1, img2):\r\n",
    "  # SIFT is no longer available in cv2 so using ORB\r\n",
    "  orb = cv2.ORB_create()\r\n",
    "\r\n",
    "  # detect keypoints and descriptors\r\n",
    "  kp_a, desc_a = orb.detectAndCompute(img1, None)\r\n",
    "  kp_b, desc_b = orb.detectAndCompute(img2, None)\r\n",
    "\r\n",
    "  # define the bruteforce matcher object\r\n",
    "  bf = cv2.BFMatcher(cv2.NORM_HAMMING, crossCheck=True)\r\n",
    "    \r\n",
    "  #perform matches. \r\n",
    "  matches = bf.match(desc_a, desc_b)\r\n",
    "  #Look for similar regions with distance < 50. Goes from 0 to 100 so pick a number between.\r\n",
    "  similar_regions = [i for i in matches if i.distance < 60]  \r\n",
    "\r\n",
    "  if len(matches) == 0:\r\n",
    "    return 0\r\n",
    "  return len(similar_regions) / len(matches)"
   ],
   "outputs": [],
   "metadata": {}
  },
  {
   "cell_type": "code",
   "execution_count": 4,
   "source": [
    "#Needs images to be same dimensions\r\n",
    "def structural_sim(img1, img2):\r\n",
    "\r\n",
    "  sim, diff = structural_similarity(img1, img2, full=True)\r\n",
    "  return sim"
   ],
   "outputs": [],
   "metadata": {}
  },
  {
   "cell_type": "code",
   "execution_count": 5,
   "source": [
    "os.getcwd()"
   ],
   "outputs": [
    {
     "output_type": "execute_result",
     "data": {
      "text/plain": [
       "'d:\\\\Facial-Landmark-Detection'"
      ]
     },
     "metadata": {},
     "execution_count": 5
    }
   ],
   "metadata": {}
  },
  {
   "cell_type": "code",
   "execution_count": 6,
   "source": [
    "folder_path = 'D:\\Facial-Landmark-Detection\\similarity_test'\r\n",
    "os.chdir(folder_path)\r\n",
    "os.listdir(folder_path)"
   ],
   "outputs": [
    {
     "output_type": "execute_result",
     "data": {
      "text/plain": [
       "['0.jpg', '1.jpg', '2.jpg']"
      ]
     },
     "metadata": {},
     "execution_count": 6
    }
   ],
   "metadata": {}
  },
  {
   "cell_type": "code",
   "execution_count": 7,
   "source": [
    "os.getcwd()"
   ],
   "outputs": [
    {
     "output_type": "execute_result",
     "data": {
      "text/plain": [
       "'D:\\\\Facial-Landmark-Detection\\\\similarity_test'"
      ]
     },
     "metadata": {},
     "execution_count": 7
    }
   ],
   "metadata": {}
  },
  {
   "cell_type": "code",
   "execution_count": 8,
   "source": [
    "os.listdir(folder_path)[0]"
   ],
   "outputs": [
    {
     "output_type": "execute_result",
     "data": {
      "text/plain": [
       "'0.jpg'"
      ]
     },
     "metadata": {},
     "execution_count": 8
    }
   ],
   "metadata": {}
  },
  {
   "cell_type": "code",
   "execution_count": 9,
   "source": [
    "for im in os.listdir(folder_path): \r\n",
    "    im_ref = os.listdir(folder_path)[0]\r\n",
    "    im_ref_load = cv2.imread(os.path.join(folder_path, im_ref))\r\n",
    "    image_load = cv2.imread(os.path.join(folder_path, im))\r\n",
    "    #1.0 means identical. Lower = not similar\r\n",
    "    orb_similarity = orb_sim(im_ref_load, image_load)\r\n",
    "    print(\"ORB Similarity \"+ \"for \" + im_ref + \" and \" + im + \" is: \" , orb_similarity)\r\n",
    "    # ssim = structural_sim(im_ref_load, image_load) \r\n",
    "    # print(\"Similarity using SSIM is: \", ssim)\r\n",
    "\r\n"
   ],
   "outputs": [
    {
     "output_type": "stream",
     "name": "stdout",
     "text": [
      "ORB Similarity for 0.jpg and 0.jpg is:  1.0\n",
      "ORB Similarity for 0.jpg and 1.jpg is:  0.9444444444444444\n",
      "ORB Similarity for 0.jpg and 2.jpg is:  0.8947368421052632\n"
     ]
    }
   ],
   "metadata": {}
  }
 ],
 "metadata": {
  "orig_nbformat": 4,
  "language_info": {
   "name": "python",
   "version": "3.8.5",
   "mimetype": "text/x-python",
   "codemirror_mode": {
    "name": "ipython",
    "version": 3
   },
   "pygments_lexer": "ipython3",
   "nbconvert_exporter": "python",
   "file_extension": ".py"
  },
  "kernelspec": {
   "name": "python3",
   "display_name": "Python 3.8.5 64-bit ('aqilla': conda)"
  },
  "interpreter": {
   "hash": "e223f8349a9688a80bbeacb846682d1c078d5b5279230289d07a33cbcfe3542e"
  }
 },
 "nbformat": 4,
 "nbformat_minor": 2
}